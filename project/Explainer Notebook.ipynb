{
 "cells": [
  {
   "cell_type": "markdown",
   "metadata": {},
   "source": [
    "# Motivation\n",
    "\n",
    "Our purpose was to visualize the benefits of trees and to make it more sensible we tried to show it in terms of money. For this purpose, we used 3 different datasets:\n",
    "1. Foresty Tree Points\n",
    "2. Eco_benefit\n",
    "3. New York Geo json dataset\n",
    "\n",
    "From The *Foresty Tree Points* we found the locations and the conditions of the trees and from *Eco_benefit* we found the money each tree save in four different categories: \n",
    "    * Air Pollutants Removed Value In Dollars\n",
    "    * Co2 Reduced Value In Dollars\n",
    "    * Energy Conserved Value In Dollars\n",
    "    * Stormwater Intercepted Value In Dollars\n",
    "Afterwards, we made a map of New York with Geo json data set and add the points with thier location.\n"
   ]
  },
  {
   "cell_type": "markdown",
   "metadata": {},
   "source": [
    "# Basic Stats\n",
    "**Foresty Tree Points** dataset contains 937403 rows and **Eco benefit** contains **770385** rows. The data has been collected since 2015-02-28 and it contains 516 different tree spices\n",
    " \n",
    "First,  we merge these two datasets by the tree ids. 765773 trees wrere mutual in theese two datasets. Then we choose the column below :\n",
    "1. Condition \n",
    "2. Location\n",
    "3. Air Pollutants Removed Value In Dollars\n",
    "4. Co2 Reduced Value In Dollars\n",
    "5. Energy Conserved Value In Dollars\n",
    "6. Stormwater Intercepted Value In Dollars\n",
    "Afterwards, we made three new columns and add them to the data frame:\n",
    "1. Total: Sum of the money that each tree save\n",
    "2. Lat: Latitude of points\n",
    "3. Long: longitude of points\n",
    "\n",
    "In Addition, there were trees with **unknown** or **nan** conditions, Since the number of them was small we decided to remove those trees. At the end, to make the visualization more clear we sample from the maded dataset.\n"
   ]
  },
  {
   "cell_type": "code",
   "execution_count": 2,
   "metadata": {},
   "outputs": [],
   "source": [
    "import pandas as pd\n",
    "import json\n",
    "import matplotlib.pyplot as plt\n",
    "import csv"
   ]
  },
  {
   "cell_type": "code",
   "execution_count": 54,
   "metadata": {},
   "outputs": [
    {
     "data": {
      "text/html": [
       "<div>\n",
       "<style scoped>\n",
       "    .dataframe tbody tr th:only-of-type {\n",
       "        vertical-align: middle;\n",
       "    }\n",
       "\n",
       "    .dataframe tbody tr th {\n",
       "        vertical-align: top;\n",
       "    }\n",
       "\n",
       "    .dataframe thead th {\n",
       "        text-align: right;\n",
       "    }\n",
       "</style>\n",
       "<table border=\"1\" class=\"dataframe\">\n",
       "  <thead>\n",
       "    <tr style=\"text-align: right;\">\n",
       "      <th></th>\n",
       "      <th>treeId</th>\n",
       "      <th>DBH</th>\n",
       "      <th>TPStructure</th>\n",
       "      <th>TPCondition</th>\n",
       "      <th>StumpDiameter</th>\n",
       "      <th>PlantingSpaceGlobalID</th>\n",
       "      <th>Geometry</th>\n",
       "      <th>GlobalID</th>\n",
       "      <th>GenusSpecies</th>\n",
       "      <th>CreatedDate</th>\n",
       "      <th>UpdatedDate</th>\n",
       "      <th>PlantedDate</th>\n",
       "      <th>RiskRating</th>\n",
       "      <th>RiskRatingDate</th>\n",
       "      <th>Location</th>\n",
       "    </tr>\n",
       "  </thead>\n",
       "  <tbody>\n",
       "    <tr>\n",
       "      <th>0</th>\n",
       "      <td>1055852</td>\n",
       "      <td>5.0</td>\n",
       "      <td>Full</td>\n",
       "      <td>Good</td>\n",
       "      <td>0.0</td>\n",
       "      <td>960B0216-AE50-44C0-B79E-369EF6FD0507</td>\n",
       "      <td>POINT (994108.13541689515 148955.26291684806)</td>\n",
       "      <td>886F84B2-8720-4F94-984F-2107974C0231</td>\n",
       "      <td>Quercus palustris - pin oak</td>\n",
       "      <td>2015-10-01 13:57:36</td>\n",
       "      <td>NaN</td>\n",
       "      <td>NaN</td>\n",
       "      <td>NaN</td>\n",
       "      <td>NaN</td>\n",
       "      <td>(40.575518300655716, -73.96451336674765)</td>\n",
       "    </tr>\n",
       "  </tbody>\n",
       "</table>\n",
       "</div>"
      ],
      "text/plain": [
       "    treeId  DBH TPStructure TPCondition  StumpDiameter  \\\n",
       "0  1055852  5.0        Full        Good            0.0   \n",
       "\n",
       "                  PlantingSpaceGlobalID  \\\n",
       "0  960B0216-AE50-44C0-B79E-369EF6FD0507   \n",
       "\n",
       "                                        Geometry  \\\n",
       "0  POINT (994108.13541689515 148955.26291684806)   \n",
       "\n",
       "                               GlobalID                 GenusSpecies  \\\n",
       "0  886F84B2-8720-4F94-984F-2107974C0231  Quercus palustris - pin oak   \n",
       "\n",
       "          CreatedDate UpdatedDate PlantedDate  RiskRating RiskRatingDate  \\\n",
       "0 2015-10-01 13:57:36         NaN         NaN         NaN            NaN   \n",
       "\n",
       "                                   Location  \n",
       "0  (40.575518300655716, -73.96451336674765)  "
      ]
     },
     "execution_count": 54,
     "metadata": {},
     "output_type": "execute_result"
    }
   ],
   "source": [
    "tree_points = pd.read_csv(\"Forestry_Tree_Points.csv\")\n",
    "tree_points.head(1)"
   ]
  },
  {
   "cell_type": "code",
   "execution_count": 7,
   "metadata": {},
   "outputs": [],
   "source": [
    "with open('eco-benefits.json') as json_file:  \n",
    "    eco = json.load(json_file)"
   ]
  },
  {
   "cell_type": "code",
   "execution_count": 55,
   "metadata": {},
   "outputs": [
    {
     "data": {
      "text/html": [
       "<div>\n",
       "<style scoped>\n",
       "    .dataframe tbody tr th:only-of-type {\n",
       "        vertical-align: middle;\n",
       "    }\n",
       "\n",
       "    .dataframe tbody tr th {\n",
       "        vertical-align: top;\n",
       "    }\n",
       "\n",
       "    .dataframe thead th {\n",
       "        text-align: right;\n",
       "    }\n",
       "</style>\n",
       "<table border=\"1\" class=\"dataframe\">\n",
       "  <thead>\n",
       "    <tr style=\"text-align: right;\">\n",
       "      <th></th>\n",
       "      <th>airPollutantsRemovedInPounds</th>\n",
       "      <th>airPollutantsRemovedValueInDollars</th>\n",
       "      <th>co2ReducedInPounds</th>\n",
       "      <th>co2ReducedValueInDollars</th>\n",
       "      <th>energyConservedInKwH</th>\n",
       "      <th>energyConservedValueInDollars</th>\n",
       "      <th>stormwaterInterceptedInGallons</th>\n",
       "      <th>stormwaterInterceptedValueInDollars</th>\n",
       "      <th>treeId</th>\n",
       "    </tr>\n",
       "  </thead>\n",
       "  <tbody>\n",
       "    <tr>\n",
       "      <th>0</th>\n",
       "      <td>0.76654637</td>\n",
       "      <td>4.01</td>\n",
       "      <td>321.50000000</td>\n",
       "      <td>1.07</td>\n",
       "      <td>484.73993509</td>\n",
       "      <td>61.20</td>\n",
       "      <td>615.52088116</td>\n",
       "      <td>6.09</td>\n",
       "      <td>2134468</td>\n",
       "    </tr>\n",
       "  </tbody>\n",
       "</table>\n",
       "</div>"
      ],
      "text/plain": [
       "  airPollutantsRemovedInPounds airPollutantsRemovedValueInDollars  \\\n",
       "0                   0.76654637                               4.01   \n",
       "\n",
       "  co2ReducedInPounds co2ReducedValueInDollars energyConservedInKwH  \\\n",
       "0       321.50000000                     1.07         484.73993509   \n",
       "\n",
       "  energyConservedValueInDollars stormwaterInterceptedInGallons  \\\n",
       "0                         61.20                   615.52088116   \n",
       "\n",
       "  stormwaterInterceptedValueInDollars   treeId  \n",
       "0                                6.09  2134468  "
      ]
     },
     "execution_count": 55,
     "metadata": {},
     "output_type": "execute_result"
    }
   ],
   "source": [
    "eco = pd.DataFrame.from_dict(eco['data'])\n",
    "eco.head(1)"
   ]
  },
  {
   "cell_type": "code",
   "execution_count": 9,
   "metadata": {},
   "outputs": [],
   "source": [
    "#merging the two data set according to treeID\n",
    "tree_points.columns = ['treeId','DBH','TPStructure','TPCondition','StumpDiameter','PlantingSpaceGlobalID','Geometry','GlobalID','GenusSpecies','CreatedDate','UpdatedDate','PlantedDate','RiskRating','RiskRatingDate','Location']\n",
    "\n",
    "merged_df = pd.merge(eco, tree_points, on=['treeId'])"
   ]
  },
  {
   "cell_type": "code",
   "execution_count": 56,
   "metadata": {},
   "outputs": [
    {
     "data": {
      "text/html": [
       "<div>\n",
       "<style scoped>\n",
       "    .dataframe tbody tr th:only-of-type {\n",
       "        vertical-align: middle;\n",
       "    }\n",
       "\n",
       "    .dataframe tbody tr th {\n",
       "        vertical-align: top;\n",
       "    }\n",
       "\n",
       "    .dataframe thead th {\n",
       "        text-align: right;\n",
       "    }\n",
       "</style>\n",
       "<table border=\"1\" class=\"dataframe\">\n",
       "  <thead>\n",
       "    <tr style=\"text-align: right;\">\n",
       "      <th></th>\n",
       "      <th>airPollutantsRemovedInPounds</th>\n",
       "      <th>airPollutantsRemovedValueInDollars</th>\n",
       "      <th>co2ReducedInPounds</th>\n",
       "      <th>co2ReducedValueInDollars</th>\n",
       "      <th>energyConservedInKwH</th>\n",
       "      <th>energyConservedValueInDollars</th>\n",
       "      <th>stormwaterInterceptedInGallons</th>\n",
       "      <th>stormwaterInterceptedValueInDollars</th>\n",
       "      <th>treeId</th>\n",
       "      <th>DBH</th>\n",
       "      <th>...</th>\n",
       "      <th>PlantingSpaceGlobalID</th>\n",
       "      <th>Geometry</th>\n",
       "      <th>GlobalID</th>\n",
       "      <th>GenusSpecies</th>\n",
       "      <th>CreatedDate</th>\n",
       "      <th>UpdatedDate</th>\n",
       "      <th>PlantedDate</th>\n",
       "      <th>RiskRating</th>\n",
       "      <th>RiskRatingDate</th>\n",
       "      <th>Location</th>\n",
       "    </tr>\n",
       "  </thead>\n",
       "  <tbody>\n",
       "    <tr>\n",
       "      <th>0</th>\n",
       "      <td>0.76654637</td>\n",
       "      <td>4.01</td>\n",
       "      <td>321.50000000</td>\n",
       "      <td>1.07</td>\n",
       "      <td>484.73993509</td>\n",
       "      <td>61.20</td>\n",
       "      <td>615.52088116</td>\n",
       "      <td>6.09</td>\n",
       "      <td>2134468</td>\n",
       "      <td>9.0</td>\n",
       "      <td>...</td>\n",
       "      <td>A043B200-D0D9-4618-AD90-81B3F729B080</td>\n",
       "      <td>POINT (980405.80895856023 200657.05750018358)</td>\n",
       "      <td>81EC7288-90FC-44B4-8087-6767F96528A1</td>\n",
       "      <td>Tilia cordata - littleleaf linden</td>\n",
       "      <td>01/05/2016 02:04:06 PM</td>\n",
       "      <td>NaN</td>\n",
       "      <td>NaN</td>\n",
       "      <td>NaN</td>\n",
       "      <td>NaN</td>\n",
       "      <td>(40.71743316779006, -74.01386751683981)</td>\n",
       "    </tr>\n",
       "  </tbody>\n",
       "</table>\n",
       "<p>1 rows × 23 columns</p>\n",
       "</div>"
      ],
      "text/plain": [
       "  airPollutantsRemovedInPounds airPollutantsRemovedValueInDollars  \\\n",
       "0                   0.76654637                               4.01   \n",
       "\n",
       "  co2ReducedInPounds co2ReducedValueInDollars energyConservedInKwH  \\\n",
       "0       321.50000000                     1.07         484.73993509   \n",
       "\n",
       "  energyConservedValueInDollars stormwaterInterceptedInGallons  \\\n",
       "0                         61.20                   615.52088116   \n",
       "\n",
       "  stormwaterInterceptedValueInDollars   treeId  DBH  ...  \\\n",
       "0                                6.09  2134468  9.0  ...   \n",
       "\n",
       "                  PlantingSpaceGlobalID  \\\n",
       "0  A043B200-D0D9-4618-AD90-81B3F729B080   \n",
       "\n",
       "                                        Geometry  \\\n",
       "0  POINT (980405.80895856023 200657.05750018358)   \n",
       "\n",
       "                               GlobalID                       GenusSpecies  \\\n",
       "0  81EC7288-90FC-44B4-8087-6767F96528A1  Tilia cordata - littleleaf linden   \n",
       "\n",
       "              CreatedDate UpdatedDate PlantedDate RiskRating RiskRatingDate  \\\n",
       "0  01/05/2016 02:04:06 PM         NaN         NaN        NaN            NaN   \n",
       "\n",
       "                                  Location  \n",
       "0  (40.71743316779006, -74.01386751683981)  \n",
       "\n",
       "[1 rows x 23 columns]"
      ]
     },
     "execution_count": 56,
     "metadata": {},
     "output_type": "execute_result"
    }
   ],
   "source": [
    "merged_df.head(1)"
   ]
  },
  {
   "cell_type": "code",
   "execution_count": 11,
   "metadata": {},
   "outputs": [],
   "source": [
    "#selecting the needed columns from the dataframe\n",
    "needed_column = merged_df[['TPCondition','Location','airPollutantsRemovedValueInDollars','co2ReducedValueInDollars','energyConservedValueInDollars','stormwaterInterceptedValueInDollars']]"
   ]
  },
  {
   "cell_type": "code",
   "execution_count": 15,
   "metadata": {},
   "outputs": [],
   "source": [
    "#making two columns lat and long which contains latitude and longitude of locations\n",
    "temp =  (needed_column['Location'].tolist())\n",
    "\n",
    "temp = [eval(x) for x in temp]\n",
    "\n",
    "lat = list(zip(*temp))[0]\n",
    "long = list(zip(*temp))[1]\n",
    "\n",
    "\n",
    "needed_column['lat'] = lat\n",
    "needed_column['long'] = long"
   ]
  },
  {
   "cell_type": "code",
   "execution_count": 16,
   "metadata": {},
   "outputs": [],
   "source": [
    "#adding a column totals which contains the total money that a tree saves\n",
    "needed_column['Total']= (needed_column.iloc[:, 2:6].astype(float)).sum(axis=1)"
   ]
  },
  {
   "cell_type": "code",
   "execution_count": 57,
   "metadata": {},
   "outputs": [
    {
     "data": {
      "text/html": [
       "<div>\n",
       "<style scoped>\n",
       "    .dataframe tbody tr th:only-of-type {\n",
       "        vertical-align: middle;\n",
       "    }\n",
       "\n",
       "    .dataframe tbody tr th {\n",
       "        vertical-align: top;\n",
       "    }\n",
       "\n",
       "    .dataframe thead th {\n",
       "        text-align: right;\n",
       "    }\n",
       "</style>\n",
       "<table border=\"1\" class=\"dataframe\">\n",
       "  <thead>\n",
       "    <tr style=\"text-align: right;\">\n",
       "      <th></th>\n",
       "      <th>TPCondition</th>\n",
       "      <th>Location</th>\n",
       "      <th>airPollutantsRemovedValueInDollars</th>\n",
       "      <th>co2ReducedValueInDollars</th>\n",
       "      <th>energyConservedValueInDollars</th>\n",
       "      <th>stormwaterInterceptedValueInDollars</th>\n",
       "      <th>lat</th>\n",
       "      <th>long</th>\n",
       "      <th>Total</th>\n",
       "    </tr>\n",
       "  </thead>\n",
       "  <tbody>\n",
       "    <tr>\n",
       "      <th>0</th>\n",
       "      <td>Good</td>\n",
       "      <td>(40.71743316779006, -74.01386751683981)</td>\n",
       "      <td>4.01</td>\n",
       "      <td>1.07</td>\n",
       "      <td>61.20</td>\n",
       "      <td>6.09</td>\n",
       "      <td>40.717433</td>\n",
       "      <td>-74.013868</td>\n",
       "      <td>72.37</td>\n",
       "    </tr>\n",
       "  </tbody>\n",
       "</table>\n",
       "</div>"
      ],
      "text/plain": [
       "  TPCondition                                 Location  \\\n",
       "0        Good  (40.71743316779006, -74.01386751683981)   \n",
       "\n",
       "  airPollutantsRemovedValueInDollars co2ReducedValueInDollars  \\\n",
       "0                               4.01                     1.07   \n",
       "\n",
       "  energyConservedValueInDollars stormwaterInterceptedValueInDollars  \\\n",
       "0                         61.20                                6.09   \n",
       "\n",
       "         lat       long  Total  \n",
       "0  40.717433 -74.013868  72.37  "
      ]
     },
     "execution_count": 57,
     "metadata": {},
     "output_type": "execute_result"
    }
   ],
   "source": [
    "needed_column.head(1)"
   ]
  },
  {
   "cell_type": "code",
   "execution_count": 19,
   "metadata": {},
   "outputs": [],
   "source": [
    "# removing trees with unknown condition and also with value nan\n",
    "needed_column = needed_column.loc[needed_column['TPCondition'] != 'Unknown']\n",
    "\n",
    "needed_column = needed_column.loc[needed_column['TPCondition'] != 'nan']\n",
    "\n",
    "filtered_df = needed_column[needed_column['TPCondition'].notnull()]"
   ]
  },
  {
   "cell_type": "code",
   "execution_count": 20,
   "metadata": {},
   "outputs": [],
   "source": [
    "#sample from the data set\n",
    "sample = filtered_df.sample(50000)\n",
    "\n",
    "sample.to_csv(r'/home/elika/uni/social_graph/project/sample50000.csv')"
   ]
  },
  {
   "cell_type": "code",
   "execution_count": 44,
   "metadata": {},
   "outputs": [],
   "source": [
    "tree_points['CreatedDate'] = pd.to_datetime(tree_points['CreatedDate'])"
   ]
  },
  {
   "cell_type": "code",
   "execution_count": 45,
   "metadata": {},
   "outputs": [
    {
     "name": "stdout",
     "output_type": "stream",
     "text": [
      "start date : 2015-02-28 05:00:00\n",
      "finish date : 2019-03-29 16:34:31\n"
     ]
    }
   ],
   "source": [
    "#finding the start and end date of the data\n",
    "times  = list(tree_points['CreatedDate'])\n",
    "\n",
    "print('start date : ' + str(min(times)))\n",
    "\n",
    "print('finish date : ' + str(max(times)))"
   ]
  },
  {
   "cell_type": "markdown",
   "metadata": {},
   "source": [
    "# Data Analysis\n",
    "\n",
    "We found the distribution of the conditions by ploting the bar chart and pie chart. moreover, we found the most common tree spices. Additionally, we plot the distributions of trees with ploting heatmaps. also, we calculate the total money that trees save.\n"
   ]
  },
  {
   "cell_type": "markdown",
   "metadata": {},
   "source": [
    "## Tree Conditions "
   ]
  },
  {
   "cell_type": "code",
   "execution_count": 21,
   "metadata": {},
   "outputs": [],
   "source": [
    "conditions = (tree_points.groupby(['TPCondition']).size()).keys()\n",
    "values_of_conditions = list(tree_points.groupby(['TPCondition']).size())"
   ]
  },
  {
   "cell_type": "code",
   "execution_count": 58,
   "metadata": {},
   "outputs": [
    {
     "data": {
      "image/png": "[encoded data removed]",
      "text/plain": [
       "<Figure size 400x400 with 1 Axes>"
      ]
     },
     "metadata": {},
     "output_type": "display_data"
    }
   ],
   "source": [
    "\n",
    "plt.figure(figsize=(4, 4), dpi=100, facecolor='w')\n",
    "plt.bar(conditions,values_of_conditions)\n",
    "plt.xticks(rotation=90)\n",
    "plt.title(\"Condition of the trees\")\n",
    "\n",
    "plt.show()"
   ]
  },
  {
   "cell_type": "code",
   "execution_count": 59,
   "metadata": {},
   "outputs": [
    {
     "data": {
      "image/png": "[encoded data removed]",
      "text/plain": [
       "<Figure size 400x400 with 1 Axes>"
      ]
     },
     "metadata": {},
     "output_type": "display_data"
    }
   ],
   "source": [
    "colors = ['yellowgreen', 'khaki','pink' ,'lightskyblue', 'silver','gold', 'springgreen']\n",
    "\n",
    "plt.figure(figsize=(4, 4), dpi=100, facecolor='w')\n",
    "plt.pie(values_of_conditions, labels=conditions, colors=colors,autopct='%1.1f%%')\n",
    "\n",
    "plt.axis('equal')\n",
    "plt.show()"
   ]
  },
  {
   "cell_type": "markdown",
   "metadata": {},
   "source": [
    "## Tree Types"
   ]
  },
  {
   "cell_type": "code",
   "execution_count": 24,
   "metadata": {},
   "outputs": [],
   "source": [
    "tree_types = (tree_points.groupby(['GenusSpecies']).size()).keys()\n",
    "type_val = list((tree_points.groupby(['GenusSpecies']).size()).keys())"
   ]
  },
  {
   "cell_type": "code",
   "execution_count": 39,
   "metadata": {},
   "outputs": [],
   "source": [
    "# Most common tree species\n",
    "spices = (tree_points.groupby(['GenusSpecies']).size()).sort_values(ascending = False)"
   ]
  },
  {
   "cell_type": "code",
   "execution_count": 40,
   "metadata": {},
   "outputs": [
    {
     "data": {
      "text/html": [
       "<div>\n",
       "<style scoped>\n",
       "    .dataframe tbody tr th:only-of-type {\n",
       "        vertical-align: middle;\n",
       "    }\n",
       "\n",
       "    .dataframe tbody tr th {\n",
       "        vertical-align: top;\n",
       "    }\n",
       "\n",
       "    .dataframe thead th {\n",
       "        text-align: right;\n",
       "    }\n",
       "</style>\n",
       "<table border=\"1\" class=\"dataframe\">\n",
       "  <thead>\n",
       "    <tr style=\"text-align: right;\">\n",
       "      <th></th>\n",
       "      <th>GenusSpecies</th>\n",
       "      <th>count</th>\n",
       "    </tr>\n",
       "  </thead>\n",
       "  <tbody>\n",
       "    <tr>\n",
       "      <th>0</th>\n",
       "      <td>Platanus x acerifolia - London planetree</td>\n",
       "      <td>110839</td>\n",
       "    </tr>\n",
       "    <tr>\n",
       "      <th>1</th>\n",
       "      <td>Gleditsia triacanthos var. inermis - Thornless...</td>\n",
       "      <td>74619</td>\n",
       "    </tr>\n",
       "    <tr>\n",
       "      <th>2</th>\n",
       "      <td>Quercus palustris - pin oak</td>\n",
       "      <td>70872</td>\n",
       "    </tr>\n",
       "  </tbody>\n",
       "</table>\n",
       "</div>"
      ],
      "text/plain": [
       "                                        GenusSpecies   count\n",
       "0           Platanus x acerifolia - London planetree  110839\n",
       "1  Gleditsia triacanthos var. inermis - Thornless...   74619\n",
       "2                        Quercus palustris - pin oak   70872"
      ]
     },
     "execution_count": 40,
     "metadata": {},
     "output_type": "execute_result"
    }
   ],
   "source": [
    "spices = spices.to_frame()\n",
    "spices = spices.reset_index()\n",
    "spices.columns = ['GenusSpecies', 'count']\n",
    "spices.head(3)"
   ]
  },
  {
   "cell_type": "markdown",
   "metadata": {},
   "source": [
    "# Add heatmaps here "
   ]
  },
  {
   "cell_type": "markdown",
   "metadata": {},
   "source": [
    "## Money"
   ]
  },
  {
   "cell_type": "markdown",
   "metadata": {},
   "source": [
    "### Dead Trees"
   ]
  },
  {
   "cell_type": "code",
   "execution_count": 46,
   "metadata": {},
   "outputs": [],
   "source": [
    "dead_trees = merged_df.loc[merged_df['TPCondition'] == 'Dead']"
   ]
  },
  {
   "cell_type": "code",
   "execution_count": 47,
   "metadata": {},
   "outputs": [],
   "source": [
    "Area = ['airPollutantsRemovedValueInDollars','energyConservedValueInDollars','co2ReducedValueInDollars','stormwaterInterceptedValueInDollars']"
   ]
  },
  {
   "cell_type": "code",
   "execution_count": 50,
   "metadata": {},
   "outputs": [
    {
     "name": "stdout",
     "output_type": "stream",
     "text": [
      "Total airPollutantsRemovedValueInDollars  291805.9699999622\n",
      "Total energyConservedValueInDollars  3559840.7100002766\n",
      "Total co2ReducedValueInDollars  199322.96000001446\n",
      "Total stormwaterInterceptedValueInDollars  443428.0099999238\n"
     ]
    }
   ],
   "source": [
    "for area in Area:\n",
    "    money = list(dead_trees[area])\n",
    "    temp = 0\n",
    "    for i in money:\n",
    "        try:\n",
    "            temp = float(i)+temp\n",
    "\n",
    "        except:\n",
    "            continue\n",
    "    print('Total ' + area + '  ' + str(temp))"
   ]
  },
  {
   "cell_type": "markdown",
   "metadata": {},
   "source": [
    "### Live Trees"
   ]
  },
  {
   "cell_type": "code",
   "execution_count": 52,
   "metadata": {},
   "outputs": [],
   "source": [
    "#finding the live trees by removing unknown and Dead trees\n",
    "live_trees = merged_df.loc[merged_df['TPCondition'] != 'Dead' ]\n",
    "live_trees = merged_df.loc[merged_df['TPCondition'] != 'Unknown']"
   ]
  },
  {
   "cell_type": "code",
   "execution_count": 53,
   "metadata": {},
   "outputs": [
    {
     "name": "stdout",
     "output_type": "stream",
     "text": [
      "Total airPollutantsRemovedValueInDollars  7086943.709991947\n",
      "Total energyConservedValueInDollars  89675511.05988549\n",
      "Total co2ReducedValueInDollars  4430135.069982331\n",
      "Total stormwaterInterceptedValueInDollars  11454629.74999678\n"
     ]
    }
   ],
   "source": [
    "for area in Area:\n",
    "    money = list(live_trees[area])\n",
    "    temp = 0\n",
    "    for i in money:\n",
    "        try:\n",
    "            temp = float(i)+temp\n",
    "\n",
    "        except:\n",
    "            continue\n",
    "    print('Total ' + area + '  ' + str(temp))"
   ]
  },
  {
   "cell_type": "markdown",
   "metadata": {},
   "source": [
    "# Genre.\n",
    "* Which tools did you use from each of the 3 categories of Visual Narrative (Figure 7 in Segal and Heer). Why?\n",
    "* Which tools did you use from each of the 3 categories of Narrative Structure (Figure 7 in Segal and Heer). Why?"
   ]
  },
  {
   "cell_type": "markdown",
   "metadata": {},
   "source": [
    "# Genre\n",
    "\n",
    "We used a combination of **Annonated Chart** and **Partitional Poster**, As we want the users to be able to interact with our visualization and also the statistics beside the map add annotations to make it more understandable\n",
    "\n",
    "**Visual Narrative** : Zooming, Motion\n",
    "\n",
    "**Narrative Structure** : Filtering / Selection, Annotations\n"
   ]
  },
  {
   "cell_type": "markdown",
   "metadata": {},
   "source": [
    "# Visualizations\n",
    "* Explain the visualizations you've chosen.\n",
    "* Why are they right for the story you want to tell?"
   ]
  },
  {
   "cell_type": "markdown",
   "metadata": {},
   "source": [
    "# Visualizations\n",
    "For the Visualizations we made a map of New york city. Then add the trees coler coded as:\n",
    "* Green : Excellent and good \n",
    "* Yellow : Fair and Critical \n",
    "* Red : Dead\n",
    "\n",
    "The map has the zooming functionality which enables users to zoom on a neighbourhood. Then a bar chart below the map will appear and shows the distributions of the conditions of the trees in that chosen neighbourhood. In addition, the money that is saved by the living tree and the money that could have been saved by the dead trees in that neighbourhood will be shown next to the bar charts\n"
   ]
  },
  {
   "cell_type": "markdown",
   "metadata": {},
   "source": [
    "# Discussion\n",
    "* What went well?,\n",
    "* What is still missing? What could be improved?, Why?"
   ]
  },
  {
   "cell_type": "markdown",
   "metadata": {},
   "source": [
    "# Discussion\n",
    "\n",
    "There was an issue in implementing zooming and brushing Simultaneously, thus, we decided to brush the neighbourhood that is chosen by zooming.\n",
    "\n",
    "For plotting the Trees, we sampled from the data as it was so slow to have all the points. "
   ]
  },
  {
   "cell_type": "markdown",
   "metadata": {},
   "source": [
    "# Contributions\n",
    "* You should write (just briefly) which group member was the main responsible for which elements of the assignment. (I want you guys to understand every part of the assignment, but usually there is someone who took lead role on certain portions of the work. That's what you should explain).\n",
    "* It is not OK simply to write \"All group members contributed equally\".\n",
    "* Make sure that you use references when they're needed and follow academic standards."
   ]
  },
  {
   "cell_type": "markdown",
   "metadata": {},
   "source": [
    "# Contributions"
   ]
  },
  {
   "cell_type": "code",
   "execution_count": null,
   "metadata": {},
   "outputs": [],
   "source": []
  }
 ],
 "metadata": {
  "kernelspec": {
   "display_name": "Python 3",
   "language": "python",
   "name": "python3"
  },
  "language_info": {
   "codemirror_mode": {
    "name": "ipython",
    "version": 3
   },
   "file_extension": ".py",
   "mimetype": "text/x-python",
   "name": "python",
   "nbconvert_exporter": "python",
   "pygments_lexer": "ipython3",
   "version": "3.6.5"
  }
 },
 "nbformat": 4,
 "nbformat_minor": 2
}
